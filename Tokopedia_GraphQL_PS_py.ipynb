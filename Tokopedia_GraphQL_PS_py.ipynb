{
  "nbformat": 4,
  "nbformat_minor": 0,
  "metadata": {
    "colab": {
      "provenance": [],
      "authorship_tag": "ABX9TyN+oWo3hTN7n1++guo8dxLS",
      "include_colab_link": true
    },
    "kernelspec": {
      "name": "python3",
      "display_name": "Python 3"
    },
    "language_info": {
      "name": "python"
    }
  },
  "cells": [
    {
      "cell_type": "markdown",
      "metadata": {
        "id": "view-in-github",
        "colab_type": "text"
      },
      "source": [
        "<a href=\"https://colab.research.google.com/github/Ajied21/Assignment-Guidance-Web-Scraping-Dibimbing/blob/master/Tokopedia_GraphQL_PS_py.ipynb\" target=\"_parent\"><img src=\"https://colab.research.google.com/assets/colab-badge.svg\" alt=\"Open In Colab\"/></a>"
      ]
    },
    {
      "cell_type": "code",
      "execution_count": 1,
      "metadata": {
        "id": "eHTs4uJe5VGO"
      },
      "outputs": [],
      "source": [
        "import requests\n",
        "import pandas as pd\n",
        "import threading"
      ]
    },
    {
      "cell_type": "code",
      "source": [
        "# URL target dan header\n",
        "url_target = 'https://gql.tokopedia.com/graphql/SearchProductQueryV4'"
      ],
      "metadata": {
        "id": "QwPr0A7v6DAZ"
      },
      "execution_count": 2,
      "outputs": []
    },
    {
      "cell_type": "code",
      "source": [
        "# Header HTTP untuk mengirimkan permintaan ke server Tokopedia\n",
        "header = {\n",
        "    'authority': 'gql.tokopedia.com',\n",
        "    'accept': '*/*',\n",
        "    'accept-language': 'en-US,en;q=0.9',\n",
        "    'content-type': 'application/json',\n",
        "    'origin': 'https://www.tokopedia.com',\n",
        "    'referer': 'https://www.tokopedia.com',\n",
        "    'sec-ch-ua': '\"Not?A_Brand\";v=\"8\", \"Chromium\";v=\"108\", \"Google Chrome\";v=\"108\"',\n",
        "    'sec-ch-ua-mobile': '?0',\n",
        "    'sec-ch-ua-platform': '\"Windows\"',\n",
        "    'sec-fetch-dest': 'empty',\n",
        "    'sec-fetch-mode': 'cors',\n",
        "    'sec-fetch-site': 'same-site',\n",
        "    'tkpd-userid': '0',\n",
        "    'user-agent': 'Mozilla/5.0 (Windows NT 10.0; Win64; x64) AppleWebKit/537.36 (KHTML, seperti Gecko) Chrome/108.0.0.0 Safari/537.36',\n",
        "    'x-device': 'desktop-0.0',\n",
        "    'x-source': 'tokopedia-lite',\n",
        "    'x-tkpd-lite-service': 'zeus',\n",
        "    'x-version': '68ba647'\n",
        "}"
      ],
      "metadata": {
        "id": "yo2qTT5D6KoZ"
      },
      "execution_count": 3,
      "outputs": []
    },
    {
      "cell_type": "code",
      "source": [
        "# Fungsi untuk mengambil data dari satu halaman pencarian\n",
        "def scrape_page(page, keyword, all_products):\n",
        "    # Query GraphQL untuk mendapatkan data produk\n",
        "    query = f'[{{\"operationName\":\"SearchProductQueryV4\",\"variables\":{{\"params\":\"device=desktop&navsource=&ob=23&page={page}\\\n",
        "              &q={keyword}&related=true&rows=60&safe_search=false&scheme=https&shipping=&source=search&srp_component_id=\\\n",
        "              04.06.00.00&srp_page_id=&srp_page_title=&st=&user_addressId=&user_cityId=&user_districtId=&user_id=&user_lat=\\\n",
        "              &user_long=&user_postCode=&user_warehouseId=&variants=\"}}, \"query\":\"query SearchProductQueryV4($params: String!)\\\n",
        "              {{ ace_search_product_v4(params: $params) {{ data {{ products {{ id name price imageUrl rating countReview url shop \\\n",
        "              {{ city isOfficial isPowerBadge name }} }} }} }} }}\"}}]'\n",
        "\n",
        "    # Mengirim permintaan HTTP POST ke URL target dengan query\n",
        "    response = requests.post(url_target, headers=header, data=query)\n",
        "    response_data = response.json()\n",
        "\n",
        "    # Mengambil data produk dari respons JSON\n",
        "    products = response_data[0]['data']['ace_search_product_v4']['data']['products']\n",
        "    all_products.extend(products)"
      ],
      "metadata": {
        "id": "pB0pL5bd6N6w"
      },
      "execution_count": 4,
      "outputs": []
    },
    {
      "cell_type": "code",
      "source": [
        "# Fungsi utama untuk melakukan scraping dengan multithreading\n",
        "def scrape_tokopedia_multithread(page_name, keyword):\n",
        "    all_products = []\n",
        "    threads = []\n",
        "\n",
        "    # Membuat dan memulai 10 thread untuk scraping dari 10 halaman\n",
        "    for page in range(1, 100):\n",
        "        thread = threading.Thread(target=scrape_page, args=(page, keyword, all_products))\n",
        "        threads.append(thread)\n",
        "        thread.start()\n",
        "\n",
        "    # Menunggu semua thread selesai\n",
        "    for thread in threads:\n",
        "        thread.join()\n",
        "\n",
        "    # Membuat DataFrame dari produk yang di-scrape\n",
        "    df = pd.DataFrame(all_products)\n",
        "\n",
        "    # Menghapus prefix 'Rp' dari kolom 'price' dan mengonversinya ke tipe float\n",
        "    df['price'] = df['price'].str.replace('Rp', '').str.replace('.', '').astype(float)\n",
        "\n",
        "    # Memisahkan informasi 'shop' menjadi kolom terpisah\n",
        "    df['location'] = df['shop'].apply(lambda x: x['city'])\n",
        "    df['status_Official'] = df['shop'].apply(lambda x: x['isOfficial'])\n",
        "    df['power_badge'] = df['shop'].apply(lambda x: x['isPowerBadge'])\n",
        "    df['shop_name'] = df['shop'].apply(lambda x: x.get('name'))\n",
        "\n",
        "    # Menghapus kolom 'shop' karena tidak diperlukan lagi\n",
        "    df = df.drop(columns=['shop'])\n",
        "\n",
        "    # Menambahkan kolom 'Brand' dan 'Variant'\n",
        "    df['brand'] = \"Sony\"\n",
        "    df['variant'] = \"Playstation\"\n",
        "\n",
        "    # Mengganti nama kolom sesuai kebutuhan\n",
        "    df = df.rename(columns={\"countReview\": \"sold\"})\n",
        "    df = df.rename(columns={\"imageUrl\": \"url_image\"})\n",
        "    df = df.rename(columns={\"url\": \"url_shop\"})\n",
        "\n",
        "    # Menyusun ulang data untuk menyimpan hanya kolom yang diperlukan\n",
        "    data_fixed = df[[\"id\",\"name\",\"brand\",\"variant\",\"power_badge\",\"status_Official\",\n",
        "                    \"location\",\"shop_name\",\"price\",\"rating\",\"sold\",\"url_shop\",\"url_image\"]]\n",
        "\n",
        "    # Konversi tipe data untuk kolom-kolom yang relevan\n",
        "    data_fixed[\"id\"] = data_fixed[\"id\"].astype(int)\n",
        "    data_fixed[\"name\"]  = data_fixed[\"name\"].astype(str)\n",
        "    data_fixed[\"brand\"] = data_fixed[\"brand\"].astype(str)\n",
        "    data_fixed[\"variant\"] = data_fixed[\"variant\"].astype(str)\n",
        "    data_fixed[\"power_badge\"] = data_fixed[\"power_badge\"].astype(bool)\n",
        "    data_fixed[\"status_Official\"] = data_fixed[\"status_Official\"].astype(bool)\n",
        "    data_fixed[\"location\"] = data_fixed[\"location\"].astype(str)\n",
        "    data_fixed[\"shop_name\"] = data_fixed[\"shop_name\"].astype(str)\n",
        "    data_fixed[\"price\"] = data_fixed[\"price\"].astype(int)\n",
        "    data_fixed[\"rating\"] = data_fixed[\"rating\"].astype(float)\n",
        "    data_fixed[\"sold\"] = data_fixed[\"sold\"].astype(int)\n",
        "    data_fixed[\"url_shop\"] = data_fixed[\"url_shop\"].astype(str)\n",
        "    data_fixed[\"url_image\"] = data_fixed[\"url_image\"].astype(str)\n",
        "\n",
        "    # Simpan hasil scraping ke file CSV dan JSON\n",
        "    data_fixed.to_csv(f'{page_name}.csv', index=False)\n",
        "    data_fixed.to_json(f'{page_name}.json', orient=\"records\", indent=4)\n",
        "\n",
        "    print(f\"Data dari {keyword} telah berhasil disimpan ke {page_name}.csv dan {page_name}.json\")"
      ],
      "metadata": {
        "id": "TGVzvS2a6Omo"
      },
      "execution_count": 5,
      "outputs": []
    },
    {
      "cell_type": "code",
      "source": [
        "# Main function untuk menjalankan scraping\n",
        "if __name__ == \"__main__\":\n",
        "\n",
        "    try:\n",
        "        # Scraping untuk produk PlayStation Console\n",
        "        scrape_tokopedia_multithread('console_ps', 'playstation')\n",
        "\n",
        "        # Scraping untuk produk CD PlayStation\n",
        "        scrape_tokopedia_multithread('game_ps', 'cd%20playstation')\n",
        "\n",
        "        print(\"Scraping website Tokopedia berhasil...\")\n",
        "\n",
        "    except Exception as e:\n",
        "        # Menangkap dan mencetak pesan error jika ada kesalahan\n",
        "        print(f\"Terjadi kesalahan: {e}\")"
      ],
      "metadata": {
        "id": "_QiVsTdY6XRE"
      },
      "execution_count": null,
      "outputs": []
    }
  ]
}